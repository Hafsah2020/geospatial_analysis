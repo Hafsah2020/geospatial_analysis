{
  "nbformat": 4,
  "nbformat_minor": 0,
  "metadata": {
    "colab": {
      "provenance": [],
      "authorship_tag": "ABX9TyOSSTWm+rSDqXgW5zDKHVAN",
      "include_colab_link": true
    },
    "kernelspec": {
      "name": "python3",
      "display_name": "Python 3"
    },
    "language_info": {
      "name": "python"
    }
  },
  "cells": [
    {
      "cell_type": "markdown",
      "metadata": {
        "id": "view-in-github",
        "colab_type": "text"
      },
      "source": [
        "<a href=\"https://colab.research.google.com/github/Hafsah2020/geospatial_analysis/blob/main/Basics_of_geospatial_analysis.ipynb\" target=\"_parent\"><img src=\"https://colab.research.google.com/assets/colab-badge.svg\" alt=\"Open In Colab\"/></a>"
      ]
    },
    {
      "cell_type": "code",
      "execution_count": null,
      "metadata": {
        "id": "tvz81NTBh3Rx"
      },
      "outputs": [],
      "source": []
    },
    {
      "cell_type": "markdown",
      "source": [
        "Geospatial analysis involves working with data that describes position of objects on the earths surface.\n",
        "The data can be of different formats:\n",
        "1. Vector data: It describes objects in form of geometry(lines, points and polygons). They are usually stored in shapefile (.shp), (.svg)\n",
        "2. Raster data: It describes objects in form of pixels. Each pixel has a value, colour or magnitude it represents within th raster. They are usually stored as .(jpg), (.png). Note raster data is different form normal pictures we are used to because they contain RGB data that our eyes can see, and multispectral or even hyperspectral information from outside the visible electromagnetic spectrum. Instead of being limited to only 3 channels/colors (RGB), we can get images with many channels.\n",
        "\n",
        "While Vector data is scalble and has high resolution Raster data is fixed grid and fixed reesolution"
      ],
      "metadata": {
        "id": "EJmnoEtEh4L5"
      }
    },
    {
      "cell_type": "code",
      "source": [],
      "metadata": {
        "id": "S5kXdGH3lnb1"
      },
      "execution_count": null,
      "outputs": []
    }
  ]
}